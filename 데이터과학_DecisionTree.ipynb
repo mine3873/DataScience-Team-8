{
 "cells": [
  {
   "cell_type": "code",
   "execution_count": 1,
   "id": "48ce2a13-254a-40ad-9a4c-1d596a2a5577",
   "metadata": {},
   "outputs": [],
   "source": [
    "from DataScience import DataScience\n",
    "\n",
    "process = DataScience()"
   ]
  },
  {
   "cell_type": "code",
   "execution_count": 2,
   "id": "c7f8a374-72e0-4ed5-a605-4bcecd921c85",
   "metadata": {},
   "outputs": [],
   "source": [
    "process.load_dataSet()"
   ]
  },
  {
   "cell_type": "code",
   "execution_count": 3,
   "id": "2726790b-dfd2-4912-bd7a-ecdf2f9af41a",
   "metadata": {},
   "outputs": [
    {
     "name": "stdout",
     "output_type": "stream",
     "text": [
      "the features of DataSet:\n",
      "Index(['customerID', 'gender', 'SeniorCitizen', 'Partner', 'Dependents',\n",
      "       'tenure', 'PhoneService', 'MultipleLines', 'InternetService',\n",
      "       'OnlineSecurity', 'OnlineBackup', 'DeviceProtection', 'TechSupport',\n",
      "       'StreamingTV', 'StreamingMovies', 'Contract', 'PaperlessBilling',\n",
      "       'PaymentMethod', 'MonthlyCharges', 'TotalCharges', 'Churn'],\n",
      "      dtype='object')\n",
      "\n",
      "first 5 rows of DataSet:\n",
      "   customerID  gender  SeniorCitizen Partner Dependents  tenure PhoneService  \\\n",
      "0  7590-VHVEG  Female              0     Yes         No       1           No   \n",
      "1  5575-GNVDE    Male              0      No         No      34          Yes   \n",
      "2  3668-QPYBK    Male              0      No         No       2          Yes   \n",
      "3  7795-CFOCW    Male              0      No         No      45           No   \n",
      "4  9237-HQITU  Female              0      No         No       2          Yes   \n",
      "\n",
      "      MultipleLines InternetService OnlineSecurity  ... DeviceProtection  \\\n",
      "0  No phone service             DSL             No  ...               No   \n",
      "1                No             DSL            Yes  ...              Yes   \n",
      "2                No             DSL            Yes  ...               No   \n",
      "3  No phone service             DSL            Yes  ...              Yes   \n",
      "4                No     Fiber optic             No  ...               No   \n",
      "\n",
      "  TechSupport StreamingTV StreamingMovies        Contract PaperlessBilling  \\\n",
      "0          No          No              No  Month-to-month              Yes   \n",
      "1          No          No              No        One year               No   \n",
      "2          No          No              No  Month-to-month              Yes   \n",
      "3         Yes          No              No        One year               No   \n",
      "4          No          No              No  Month-to-month              Yes   \n",
      "\n",
      "               PaymentMethod MonthlyCharges  TotalCharges Churn  \n",
      "0           Electronic check          29.85         29.85    No  \n",
      "1               Mailed check          56.95        1889.5    No  \n",
      "2               Mailed check          53.85        108.15   Yes  \n",
      "3  Bank transfer (automatic)          42.30       1840.75    No  \n",
      "4           Electronic check          70.70        151.65   Yes  \n",
      "\n",
      "[5 rows x 21 columns]\n",
      "\n",
      "DataTypes of DataSet:\n",
      "customerID           object\n",
      "gender               object\n",
      "SeniorCitizen         int64\n",
      "Partner              object\n",
      "Dependents           object\n",
      "tenure                int64\n",
      "PhoneService         object\n",
      "MultipleLines        object\n",
      "InternetService      object\n",
      "OnlineSecurity       object\n",
      "OnlineBackup         object\n",
      "DeviceProtection     object\n",
      "TechSupport          object\n",
      "StreamingTV          object\n",
      "StreamingMovies      object\n",
      "Contract             object\n",
      "PaperlessBilling     object\n",
      "PaymentMethod        object\n",
      "MonthlyCharges      float64\n",
      "TotalCharges         object\n",
      "Churn                object\n",
      "dtype: object\n",
      "\n",
      "Num Of NaN in each feature: \n",
      "customerID          0\n",
      "gender              0\n",
      "SeniorCitizen       0\n",
      "Partner             0\n",
      "Dependents          0\n",
      "tenure              0\n",
      "PhoneService        0\n",
      "MultipleLines       0\n",
      "InternetService     0\n",
      "OnlineSecurity      0\n",
      "OnlineBackup        0\n",
      "DeviceProtection    0\n",
      "TechSupport         0\n",
      "StreamingTV         0\n",
      "StreamingMovies     0\n",
      "Contract            0\n",
      "PaperlessBilling    0\n",
      "PaymentMethod       0\n",
      "MonthlyCharges      0\n",
      "TotalCharges        0\n",
      "Churn               0\n",
      "dtype: int64\n",
      "Statistical Information: \n",
      "       SeniorCitizen       tenure  MonthlyCharges\n",
      "count    7043.000000  7043.000000     7043.000000\n",
      "mean        0.162147    32.371149       64.761692\n",
      "std         0.368612    24.559481       30.090047\n",
      "min         0.000000     0.000000       18.250000\n",
      "25%         0.000000     9.000000       35.500000\n",
      "50%         0.000000    29.000000       70.350000\n",
      "75%         0.000000    55.000000       89.850000\n",
      "max         1.000000    72.000000      118.750000\n"
     ]
    },
    {
     "data": {
      "image/png": "[encoded data removed]",
      "text/plain": [
       "<Figure size 1200x800 with 1 Axes>"
      ]
     },
     "metadata": {},
     "output_type": "display_data"
    }
   ],
   "source": [
    "process.print_statistical()"
   ]
  },
  {
   "cell_type": "code",
   "execution_count": 4,
   "id": "7022ff0d-21c3-4050-8d9c-496736ed0a7b",
   "metadata": {},
   "outputs": [
    {
     "name": "stdout",
     "output_type": "stream",
     "text": [
      "\n",
      "Best params by F1:\n",
      "\n",
      "                                      Setting  precision    recall        f1  \\\n",
      "52   one_hot, conv=False, SMOTH=True, topN=20   0.523105  0.756684  0.618579   \n",
      "1     one_hot, conv=True, SMOTH=False, topN=5   0.570136  0.673797  0.617647   \n",
      "41   one_hot, conv=False, SMOTH=False, topN=5   0.570136  0.673797  0.617647   \n",
      "45  one_hot, conv=False, SMOTH=False, topN=10   0.570136  0.673797  0.617647   \n",
      "24      label, conv=True, SMOTH=True, topN=10   0.603581  0.631016  0.616993   \n",
      "\n",
      "     roc_auc  \n",
      "52  0.810844  \n",
      "1   0.819061  \n",
      "41  0.819061  \n",
      "45  0.819061  \n",
      "24  0.817062  \n"
     ]
    }
   ],
   "source": [
    "process.find_best_parameter_decisionTree(\n",
    "    showTheGraph=False\n",
    ")"
   ]
  },
  {
   "cell_type": "code",
   "execution_count": 5,
   "id": "5fddfc7f-c3d0-4cde-ba91-2c6bff931af8",
   "metadata": {},
   "outputs": [
    {
     "name": "stdout",
     "output_type": "stream",
     "text": [
      "Classification Report:\n",
      "              precision    recall  f1-score   support\n",
      "\n",
      "           0       0.87      0.82      0.84      1035\n",
      "           1       0.56      0.66      0.61       374\n",
      "\n",
      "    accuracy                           0.78      1409\n",
      "   macro avg       0.72      0.74      0.73      1409\n",
      "weighted avg       0.79      0.78      0.78      1409\n",
      "\n",
      "ROC-AUC: 0.8018\n",
      "Precision: 0.5649\n",
      "Recall: 0.6631\n",
      "F1 Score: 0.6101\n"
     ]
    },
    {
     "data": {
      "text/plain": [
       "(0.8017592807874137,\n",
       " 0.5649202733485194,\n",
       " 0.6631016042780749,\n",
       " 0.6100861008610086)"
      ]
     },
     "execution_count": 5,
     "metadata": {},
     "output_type": "execute_result"
    }
   ],
   "source": [
    "process.preprocessing(\n",
    "    dealing_outlier=True,\n",
    "    selectBestFeatures=True,\n",
    "    numOfBestFeatures = 10,\n",
    "    method='label'\n",
    ")\n",
    "process.trainModel(\n",
    "    model='decisionTree',\n",
    "    useSmoth=False,\n",
    "    test_size=0.2\n",
    ")\n",
    "process.evaluate(\n",
    "    printResult=True,\n",
    "    tuneThreshold=True\n",
    ")"
   ]
  },
  {
   "cell_type": "code",
   "execution_count": 6,
   "id": "55ecb2f0-dbd5-42f9-9ba4-fb2cc135f8b8",
   "metadata": {},
   "outputs": [
    {
     "name": "stdout",
     "output_type": "stream",
     "text": [
      "Classification Report:\n",
      "              precision    recall  f1-score   support\n",
      "\n",
      "           0       0.86      0.81      0.83      1035\n",
      "           1       0.55      0.64      0.59       374\n",
      "\n",
      "    accuracy                           0.76      1409\n",
      "   macro avg       0.70      0.72      0.71      1409\n",
      "weighted avg       0.78      0.76      0.77      1409\n",
      "\n",
      "ROC-AUC: 0.7965\n",
      "Precision: 0.5455\n",
      "Recall: 0.6417\n",
      "F1 Score: 0.5897\n"
     ]
    },
    {
     "data": {
      "text/plain": [
       "(0.7965447311994627,\n",
       " 0.5454545454545454,\n",
       " 0.6417112299465241,\n",
       " 0.5896805896805897)"
      ]
     },
     "execution_count": 6,
     "metadata": {},
     "output_type": "execute_result"
    }
   ],
   "source": [
    "process.preprocessing(\n",
    "    dealing_outlier=True,\n",
    "    selectBestFeatures=True,\n",
    "    numOfBestFeatures = 10,\n",
    "    method='label'\n",
    ")\n",
    "process.trainModel(\n",
    "    model='decisionTree',\n",
    "    useSmoth=True, # SMOTH 방식 사용\n",
    "    test_size=0.2\n",
    ")\n",
    "process.evaluate(\n",
    "    printResult=True,\n",
    "    tuneThreshold=True\n",
    ")"
   ]
  },
  {
   "cell_type": "code",
   "execution_count": 7,
   "id": "6ffa95fd-77b2-481c-a215-bf20657f648e",
   "metadata": {},
   "outputs": [
    {
     "name": "stdout",
     "output_type": "stream",
     "text": [
      "Classification Report:\n",
      "              precision    recall  f1-score   support\n",
      "\n",
      "           0       0.88      0.75      0.81      1035\n",
      "           1       0.51      0.72      0.60       374\n",
      "\n",
      "    accuracy                           0.74      1409\n",
      "   macro avg       0.70      0.74      0.71      1409\n",
      "weighted avg       0.78      0.74      0.76      1409\n",
      "\n",
      "ROC-AUC: 0.7941\n",
      "Precision: 0.5133\n",
      "Recall: 0.7246\n",
      "F1 Score: 0.6009\n"
     ]
    },
    {
     "data": {
      "text/plain": [
       "(0.7941098969231961,\n",
       " 0.5132575757575758,\n",
       " 0.7245989304812834,\n",
       " 0.6008869179600886)"
      ]
     },
     "execution_count": 7,
     "metadata": {},
     "output_type": "execute_result"
    }
   ],
   "source": [
    "process.preprocessing(\n",
    "    dealing_outlier=True,\n",
    "    selectBestFeatures=False,\n",
    "    method='label'\n",
    ")\n",
    "process.trainModel(\n",
    "    model='decisionTree',\n",
    "    useSmoth=True, # SMOTH 방식 사용\n",
    "    test_size=0.2\n",
    ")\n",
    "process.evaluate(\n",
    "    printResult=True,\n",
    "    tuneThreshold=True\n",
    ")"
   ]
  },
  {
   "cell_type": "code",
   "execution_count": 8,
   "id": "6c22ae4e-04c5-4302-a485-4ae42ec122da",
   "metadata": {},
   "outputs": [
    {
     "name": "stdout",
     "output_type": "stream",
     "text": [
      "Classification Report:\n",
      "              precision    recall  f1-score   support\n",
      "\n",
      "           0       0.88      0.76      0.82      1035\n",
      "           1       0.52      0.72      0.60       374\n",
      "\n",
      "    accuracy                           0.75      1409\n",
      "   macro avg       0.70      0.74      0.71      1409\n",
      "weighted avg       0.79      0.75      0.76      1409\n",
      "\n",
      "ROC-AUC: 0.7995\n",
      "Precision: 0.5182\n",
      "Recall: 0.7219\n",
      "F1 Score: 0.6034\n"
     ]
    },
    {
     "data": {
      "text/plain": [
       "(0.7994975328734919,\n",
       " 0.5182341650671785,\n",
       " 0.7219251336898396,\n",
       " 0.6033519553072626)"
      ]
     },
     "execution_count": 8,
     "metadata": {},
     "output_type": "execute_result"
    }
   ],
   "source": [
    "process.preprocessing(\n",
    "    dealing_outlier=True,\n",
    "    selectBestFeatures=False,\n",
    "    method='label'\n",
    ")\n",
    "process.trainModel(\n",
    "    model='decisionTree',\n",
    "    useSmoth=False, # SMOTH 방식 사용\n",
    "    test_size=0.2\n",
    ")\n",
    "process.evaluate(\n",
    "    printResult=True,\n",
    "    tuneThreshold=True\n",
    ")"
   ]
  },
  {
   "cell_type": "code",
   "execution_count": 10,
   "id": "29773f1f-55ad-4a20-a1a2-38b42a2d10b8",
   "metadata": {},
   "outputs": [
    {
     "name": "stdout",
     "output_type": "stream",
     "text": [
      "Classification Report:\n",
      "              precision    recall  f1-score   support\n",
      "\n",
      "           0       0.93      0.58      0.71      1035\n",
      "           1       0.43      0.87      0.57       374\n",
      "\n",
      "    accuracy                           0.66      1409\n",
      "   macro avg       0.68      0.73      0.64      1409\n",
      "weighted avg       0.79      0.66      0.67      1409\n",
      "\n",
      "ROC-AUC: 0.7846\n",
      "Precision: 0.4269\n",
      "Recall: 0.8743\n",
      "F1 Score: 0.5737\n"
     ]
    },
    {
     "data": {
      "text/plain": [
       "(0.7846069389547651,\n",
       " 0.42689295039164493,\n",
       " 0.8743315508021391,\n",
       " 0.5736842105263158)"
      ]
     },
     "execution_count": 10,
     "metadata": {},
     "output_type": "execute_result"
    }
   ],
   "source": [
    "process.preprocessing(\n",
    "    dealing_outlier=True,\n",
    "    selectBestFeatures=False,\n",
    "    method='one_hot'\n",
    ")\n",
    "process.trainModel(\n",
    "    model='decisionTree',\n",
    "    useSmoth=False, # SMOTH 방식 사용\n",
    "    test_size=0.2\n",
    ")\n",
    "process.evaluate(\n",
    "    printResult=True,\n",
    "    tuneThreshold=True\n",
    ")"
   ]
  },
  {
   "cell_type": "markdown",
   "id": "51ac0804-cc55-4ac8-a6be-c86acc6d83bd",
   "metadata": {},
   "source": [
    "Recall의 값이 0.87로 가장 높은 경우. "
   ]
  },
  {
   "cell_type": "code",
   "execution_count": 13,
   "id": "5c082137-fb76-4751-9b72-772a9bc00bfa",
   "metadata": {},
   "outputs": [
    {
     "name": "stdout",
     "output_type": "stream",
     "text": [
      "Classification Report:\n",
      "              precision    recall  f1-score   support\n",
      "\n",
      "           0       0.88      0.75      0.81      1035\n",
      "           1       0.51      0.73      0.60       374\n",
      "\n",
      "    accuracy                           0.74      1409\n",
      "   macro avg       0.70      0.74      0.71      1409\n",
      "weighted avg       0.79      0.74      0.76      1409\n",
      "\n",
      "ROC-AUC: 0.7981\n",
      "Precision: 0.5132\n",
      "Recall: 0.7273\n",
      "F1 Score: 0.6018\n"
     ]
    },
    {
     "data": {
      "text/plain": [
       "(0.7981012167712934,\n",
       " 0.5132075471698113,\n",
       " 0.7272727272727273,\n",
       " 0.6017699115044248)"
      ]
     },
     "execution_count": 13,
     "metadata": {},
     "output_type": "execute_result"
    }
   ],
   "source": [
    "process.preprocessing(\n",
    "    dealing_outlier=True,\n",
    "    selectBestFeatures=True,\n",
    "    numOfBestFeatures = 15,\n",
    "    method='one_hot'\n",
    ")\n",
    "process.trainModel(\n",
    "    model='decisionTree',\n",
    "    useSmoth=False, # SMOTH 방식 사용\n",
    "    test_size=0.2\n",
    ")\n",
    "process.evaluate(\n",
    "    printResult=True,\n",
    "    tuneThreshold=True\n",
    ")"
   ]
  },
  {
   "cell_type": "code",
   "execution_count": null,
   "id": "17309ca5-6eba-496b-abe6-33e053aef39b",
   "metadata": {},
   "outputs": [],
   "source": []
  }
 ],
 "metadata": {
  "kernelspec": {
   "display_name": "Python 3 (ipykernel)",
   "language": "python",
   "name": "python3"
  },
  "language_info": {
   "codemirror_mode": {
    "name": "ipython",
    "version": 3
   },
   "file_extension": ".py",
   "mimetype": "text/x-python",
   "name": "python",
   "nbconvert_exporter": "python",
   "pygments_lexer": "ipython3",
   "version": "3.10.0"
  }
 },
 "nbformat": 4,
 "nbformat_minor": 5
}
